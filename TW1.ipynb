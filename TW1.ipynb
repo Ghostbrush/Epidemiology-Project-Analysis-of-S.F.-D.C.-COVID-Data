{
 "cells": [
  {
   "cell_type": "code",
   "execution_count": 408,
   "metadata": {},
   "outputs": [],
   "source": [
    "import numpy as np\n",
    "import pandas as pd\n",
    "import re\n",
    "import datetime\n",
    "import math\n",
    "from matplotlib import pyplot as plt\n",
    "from functools import partial"
   ]
  },
  {
   "cell_type": "code",
   "execution_count": 409,
   "metadata": {},
   "outputs": [
    {
     "data": {
      "text/html": [
       "<div>\n",
       "<style scoped>\n",
       "    .dataframe tbody tr th:only-of-type {\n",
       "        vertical-align: middle;\n",
       "    }\n",
       "\n",
       "    .dataframe tbody tr th {\n",
       "        vertical-align: top;\n",
       "    }\n",
       "\n",
       "    .dataframe thead th {\n",
       "        text-align: right;\n",
       "    }\n",
       "</style>\n",
       "<table border=\"1\" class=\"dataframe\">\n",
       "  <thead>\n",
       "    <tr style=\"text-align: right;\">\n",
       "      <th></th>\n",
       "      <th>UID</th>\n",
       "      <th>iso2</th>\n",
       "      <th>iso3</th>\n",
       "      <th>code3</th>\n",
       "      <th>FIPS</th>\n",
       "      <th>Admin2</th>\n",
       "      <th>Province_State</th>\n",
       "      <th>Country_Region</th>\n",
       "      <th>Lat</th>\n",
       "      <th>Long_</th>\n",
       "      <th>...</th>\n",
       "      <th>1/7/23</th>\n",
       "      <th>1/8/23</th>\n",
       "      <th>1/9/23</th>\n",
       "      <th>1/10/23</th>\n",
       "      <th>1/11/23</th>\n",
       "      <th>1/12/23</th>\n",
       "      <th>1/13/23</th>\n",
       "      <th>1/14/23</th>\n",
       "      <th>1/15/23</th>\n",
       "      <th>1/16/23</th>\n",
       "    </tr>\n",
       "  </thead>\n",
       "  <tbody>\n",
       "    <tr>\n",
       "      <th>0</th>\n",
       "      <td>84006075</td>\n",
       "      <td>US</td>\n",
       "      <td>USA</td>\n",
       "      <td>840</td>\n",
       "      <td>6075</td>\n",
       "      <td>San Francisco</td>\n",
       "      <td>California</td>\n",
       "      <td>US</td>\n",
       "      <td>37.752151</td>\n",
       "      <td>-122.438567</td>\n",
       "      <td>...</td>\n",
       "      <td>203871</td>\n",
       "      <td>203871</td>\n",
       "      <td>203871</td>\n",
       "      <td>204696</td>\n",
       "      <td>204696</td>\n",
       "      <td>204696</td>\n",
       "      <td>204806</td>\n",
       "      <td>204806</td>\n",
       "      <td>204806</td>\n",
       "      <td>204806</td>\n",
       "    </tr>\n",
       "    <tr>\n",
       "      <th>1</th>\n",
       "      <td>84006075</td>\n",
       "      <td>US</td>\n",
       "      <td>USA</td>\n",
       "      <td>840</td>\n",
       "      <td>6075</td>\n",
       "      <td>San Francisco</td>\n",
       "      <td>California</td>\n",
       "      <td>US</td>\n",
       "      <td>37.752151</td>\n",
       "      <td>-122.438567</td>\n",
       "      <td>...</td>\n",
       "      <td>1114</td>\n",
       "      <td>1114</td>\n",
       "      <td>1114</td>\n",
       "      <td>1114</td>\n",
       "      <td>1116</td>\n",
       "      <td>1123</td>\n",
       "      <td>1129</td>\n",
       "      <td>1137</td>\n",
       "      <td>1137</td>\n",
       "      <td>1137</td>\n",
       "    </tr>\n",
       "  </tbody>\n",
       "</table>\n",
       "<p>2 rows × 1103 columns</p>\n",
       "</div>"
      ],
      "text/plain": [
       "        UID iso2 iso3  code3  FIPS         Admin2 Province_State  \\\n",
       "0  84006075   US  USA    840  6075  San Francisco     California   \n",
       "1  84006075   US  USA    840  6075  San Francisco     California   \n",
       "\n",
       "  Country_Region        Lat       Long_  ...  1/7/23  1/8/23  1/9/23  1/10/23  \\\n",
       "0             US  37.752151 -122.438567  ...  203871  203871  203871   204696   \n",
       "1             US  37.752151 -122.438567  ...    1114    1114    1114     1114   \n",
       "\n",
       "   1/11/23  1/12/23  1/13/23  1/14/23  1/15/23  1/16/23  \n",
       "0   204696   204696   204806   204806   204806   204806  \n",
       "1     1116     1123     1129     1137     1137     1137  \n",
       "\n",
       "[2 rows x 1103 columns]"
      ]
     },
     "execution_count": 409,
     "metadata": {},
     "output_type": "execute_result"
    }
   ],
   "source": [
    "df = pd.read_csv('project10_data.csv')\n",
    "df"
   ]
  },
  {
   "attachments": {},
   "cell_type": "markdown",
   "metadata": {},
   "source": [
    "Exercise 1: Fit a SI Model"
   ]
  },
  {
   "attachments": {},
   "cell_type": "markdown",
   "metadata": {},
   "source": [
    "(1) \n",
    "v(t0) >= 5"
   ]
  },
  {
   "cell_type": "code",
   "execution_count": 410,
   "metadata": {},
   "outputs": [
    {
     "data": {
      "text/html": [
       "<div>\n",
       "<style scoped>\n",
       "    .dataframe tbody tr th:only-of-type {\n",
       "        vertical-align: middle;\n",
       "    }\n",
       "\n",
       "    .dataframe tbody tr th {\n",
       "        vertical-align: top;\n",
       "    }\n",
       "\n",
       "    .dataframe thead th {\n",
       "        text-align: right;\n",
       "    }\n",
       "</style>\n",
       "<table border=\"1\" class=\"dataframe\">\n",
       "  <thead>\n",
       "    <tr style=\"text-align: right;\">\n",
       "      <th></th>\n",
       "      <th>2020-01-22</th>\n",
       "      <th>2020-01-23</th>\n",
       "      <th>2020-01-24</th>\n",
       "      <th>2020-01-25</th>\n",
       "      <th>2020-01-26</th>\n",
       "      <th>2020-01-27</th>\n",
       "      <th>2020-01-28</th>\n",
       "      <th>2020-01-29</th>\n",
       "      <th>2020-01-30</th>\n",
       "      <th>2020-01-31</th>\n",
       "      <th>...</th>\n",
       "      <th>2023-01-07</th>\n",
       "      <th>2023-01-08</th>\n",
       "      <th>2023-01-09</th>\n",
       "      <th>2023-01-10</th>\n",
       "      <th>2023-01-11</th>\n",
       "      <th>2023-01-12</th>\n",
       "      <th>2023-01-13</th>\n",
       "      <th>2023-01-14</th>\n",
       "      <th>2023-01-15</th>\n",
       "      <th>2023-01-16</th>\n",
       "    </tr>\n",
       "  </thead>\n",
       "  <tbody>\n",
       "    <tr>\n",
       "      <th>0</th>\n",
       "      <td>0</td>\n",
       "      <td>0</td>\n",
       "      <td>0</td>\n",
       "      <td>0</td>\n",
       "      <td>0</td>\n",
       "      <td>0</td>\n",
       "      <td>0</td>\n",
       "      <td>0</td>\n",
       "      <td>0</td>\n",
       "      <td>0</td>\n",
       "      <td>...</td>\n",
       "      <td>203871</td>\n",
       "      <td>203871</td>\n",
       "      <td>203871</td>\n",
       "      <td>204696</td>\n",
       "      <td>204696</td>\n",
       "      <td>204696</td>\n",
       "      <td>204806</td>\n",
       "      <td>204806</td>\n",
       "      <td>204806</td>\n",
       "      <td>204806</td>\n",
       "    </tr>\n",
       "    <tr>\n",
       "      <th>1</th>\n",
       "      <td>0</td>\n",
       "      <td>0</td>\n",
       "      <td>0</td>\n",
       "      <td>0</td>\n",
       "      <td>0</td>\n",
       "      <td>0</td>\n",
       "      <td>0</td>\n",
       "      <td>0</td>\n",
       "      <td>0</td>\n",
       "      <td>0</td>\n",
       "      <td>...</td>\n",
       "      <td>1114</td>\n",
       "      <td>1114</td>\n",
       "      <td>1114</td>\n",
       "      <td>1114</td>\n",
       "      <td>1116</td>\n",
       "      <td>1123</td>\n",
       "      <td>1129</td>\n",
       "      <td>1137</td>\n",
       "      <td>1137</td>\n",
       "      <td>1137</td>\n",
       "    </tr>\n",
       "  </tbody>\n",
       "</table>\n",
       "<p>2 rows × 1091 columns</p>\n",
       "</div>"
      ],
      "text/plain": [
       "   2020-01-22  2020-01-23  2020-01-24  2020-01-25  2020-01-26  2020-01-27  \\\n",
       "0           0           0           0           0           0           0   \n",
       "1           0           0           0           0           0           0   \n",
       "\n",
       "   2020-01-28  2020-01-29  2020-01-30  2020-01-31  ...  2023-01-07  \\\n",
       "0           0           0           0           0  ...      203871   \n",
       "1           0           0           0           0  ...        1114   \n",
       "\n",
       "   2023-01-08  2023-01-09  2023-01-10  2023-01-11  2023-01-12  2023-01-13  \\\n",
       "0      203871      203871      204696      204696      204696      204806   \n",
       "1        1114        1114        1114        1116        1123        1129   \n",
       "\n",
       "   2023-01-14  2023-01-15  2023-01-16  \n",
       "0      204806      204806      204806  \n",
       "1        1137        1137        1137  \n",
       "\n",
       "[2 rows x 1091 columns]"
      ]
     },
     "execution_count": 410,
     "metadata": {},
     "output_type": "execute_result"
    }
   ],
   "source": [
    "# Initialize the max\n",
    "tmax = 119\n",
    "\n",
    "# First to clean the table with only the time series data\n",
    "col_list = []\n",
    "for col in df.columns:\n",
    "    if re.search(\"^[0-9]+\", col):\n",
    "        col_list.append(col)\n",
    "\n",
    "# df_clean symbolizing all dates with given data\n",
    "df_clean = df[col_list]\n",
    "df_clean.columns = pd.to_datetime(df_clean.columns, format=\"%m/%d/%y\")\n",
    "df_clean\n",
    "# df_clean"
   ]
  },
  {
   "cell_type": "code",
   "execution_count": 411,
   "metadata": {},
   "outputs": [
    {
     "name": "stdout",
     "output_type": "stream",
     "text": [
      "45\n",
      "2020-03-07\n"
     ]
    }
   ],
   "source": [
    "# find t0 as the starting time for the simulation\n",
    "for i in range(len(df_clean.columns)):\n",
    "    if df_clean.iloc[0, i] >= 5:\n",
    "        t0 = i\n",
    "        break\n",
    "    \n",
    "print(t0)\n",
    "print(df_clean.columns[i].date())"
   ]
  },
  {
   "attachments": {},
   "cell_type": "markdown",
   "metadata": {},
   "source": [
    "Therefore, we find that the t0 happens at t=45, which is 03/07/2020."
   ]
  },
  {
   "attachments": {},
   "cell_type": "markdown",
   "metadata": {},
   "source": [
    "(2) \n",
    "I(t) = v(t+t0), for 0 <= t <= tmax.\n",
    "Denote: N_max = population, N_min = 1 + I(tmax)"
   ]
  },
  {
   "attachments": {},
   "cell_type": "markdown",
   "metadata": {},
   "source": [
    "(2)(a) Implement Algorithm \"SI Alg 1 - known N\""
   ]
  },
  {
   "cell_type": "code",
   "execution_count": 412,
   "metadata": {},
   "outputs": [
    {
     "name": "stdout",
     "output_type": "stream",
     "text": [
      "N_max = 881549, N_min = 3863\n"
     ]
    }
   ],
   "source": [
    "# Get population\n",
    "population = df[\"Population\"][0]\n",
    "\n",
    "infection_list = list(df_clean.iloc[0])\n",
    "I_list = infection_list[t0:(t0+tmax+1)]\n",
    "\n",
    "N_max_a = population\n",
    "N_min_a = 1 + I_list[-1]\n",
    "\n",
    "print(f\"N_max = {N_max_a}, N_min = {N_min_a}\") "
   ]
  },
  {
   "attachments": {},
   "cell_type": "markdown",
   "metadata": {},
   "source": [
    "(2)(a)(i) J(beta, N), jacobian (How to Calibrate SI Models)\n",
    "<br><br>\n",
    "(2)(a)(ii) Plot the I(t) for both N_max and N_min, and the predicted value of the infection count based on the SI model"
   ]
  },
  {
   "cell_type": "code",
   "execution_count": 413,
   "metadata": {},
   "outputs": [],
   "source": [
    "def jacobian(I, beta, N):\n",
    "    J = 0\n",
    "    for t in range(0, tmax+1):\n",
    "        J += math.pow(abs((beta * t - math.log(I[t] / (N - I[t])) + math.log(I[0] / (N - I[0])))), 2)\n",
    "        \n",
    "    return J"
   ]
  },
  {
   "cell_type": "code",
   "execution_count": 414,
   "metadata": {},
   "outputs": [
    {
     "name": "stdout",
     "output_type": "stream",
     "text": [
      "Running for N = 3863\n",
      "Estimated: beta = beta_hat = 0.08334705622094742\n",
      "The value of objective function J(beta, N) is 200.6980201521093\n",
      "--------------------\n",
      "Running for N = 881549\n",
      "Estimated: beta = beta_hat = 0.06786369732468558\n",
      "The value of objective function J(beta, N) is 249.05070249950745\n",
      "--------------------\n"
     ]
    },
    {
     "data": {
      "image/png": "[encoded data removed]",
      "text/plain": [
       "<Figure size 432x288 with 1 Axes>"
      ]
     },
     "metadata": {
      "needs_background": "light"
     },
     "output_type": "display_data"
    },
    {
     "data": {
      "image/png": "[encoded data removed]",
      "text/plain": [
       "<Figure size 432x288 with 1 Axes>"
      ]
     },
     "metadata": {
      "needs_background": "light"
     },
     "output_type": "display_data"
    }
   ],
   "source": [
    "for N_a in [N_min_a, N_max_a]:\n",
    "    I = I_list\n",
    "\n",
    "    print(f\"Running for N = {N_a}\")\n",
    "\n",
    "    temp = 0\n",
    "    for t in range(1, tmax+1):\n",
    "        temp += t * math.log((I[t] / I[0]) * ((N_a - I[0]) / (N_a - I[t])))\n",
    "    step = 6 / (tmax * (tmax + 1) * (2 * tmax + 1))\n",
    "    beta_hat_a = step * temp\n",
    "\n",
    "    print(f\"Estimated: beta = beta_hat = {beta_hat_a}\")\n",
    "\n",
    "    J_a = jacobian(I, beta_hat_a, N_a)\n",
    "    print(f\"The value of objective function J(beta, N) is {J_a}\")\n",
    "\n",
    "    tlist = np.arange(0, tmax+1)\n",
    "    I_func_1 = [N_a * I[0] / (I[0] + (N_a - I[0]) * math.exp(-beta_hat_a * t)) for t in tlist]\n",
    "    plt.figure()\n",
    "    plt.plot(I_func_1, label=\"Prediction\")\n",
    "    plt.plot(I, label=\"Actual\")\n",
    "    plt.xlabel(\"t\")\n",
    "    plt.ylabel(\"Number of Infection\")\n",
    "    plt.title(f\"SI_known_N (N={N_a})\")\n",
    "    plt.legend()\n",
    "    # plt.savefig(f\"SI_known_N (N={N}).png\")\n",
    "    print(\"-\" * 20)"
   ]
  },
  {
   "attachments": {},
   "cell_type": "markdown",
   "metadata": {},
   "source": [
    "(2)(b) Implement Algorithm \"SI Alg 2 - Unknown N\""
   ]
  },
  {
   "attachments": {},
   "cell_type": "markdown",
   "metadata": {},
   "source": [
    "(2)(b)(i) Save intermediate values of J(N) at step 2.1, and plot J = J(N)"
   ]
  },
  {
   "cell_type": "code",
   "execution_count": 415,
   "metadata": {},
   "outputs": [],
   "source": [
    "# Initialize data\n",
    "N_b = N_min_a\n",
    "J_old = math.inf\n",
    "a = step"
   ]
  },
  {
   "cell_type": "code",
   "execution_count": 416,
   "metadata": {},
   "outputs": [
    {
     "data": {
      "image/png": "[encoded data removed]",
      "text/plain": [
       "<Figure size 432x288 with 1 Axes>"
      ]
     },
     "metadata": {
      "needs_background": "light"
     },
     "output_type": "display_data"
    }
   ],
   "source": [
    "total_J = []\n",
    "track_N = []\n",
    "J_b = 0\n",
    "I = I_list\n",
    "\n",
    "while True:\n",
    "    temp1 = 0\n",
    "    for t in range(1, tmax+1):\n",
    "        temp1 += math.pow(abs(math.log((I[t] / I[0]) * ((N_b - I[0]) / (N_b - I[t])))), 2)\n",
    "    \n",
    "    temp2 = 0\n",
    "    for t in range(1, tmax+1):\n",
    "        temp2 += t * math.log((I[t] / I[0]) * ((N_b - I[0]) / (N_b - I[t])))\n",
    "\n",
    "    J_b = temp1 - a * math.pow(temp2, 2)\n",
    "    total_J.append(J_b)\n",
    "    track_N.append(N_b)\n",
    "\n",
    "    if J_b < J_old:\n",
    "        J_old = J_b\n",
    "        N_b += 1\n",
    "    else:\n",
    "        break\n",
    "\n",
    "plt.plot(track_N, total_J)\n",
    "plt.xlabel(\"N\")\n",
    "plt.ylabel(\"Intermediate Value of J(N)\")\n",
    "plt.title(\"J = J(N)\")\n",
    "plt.show()"
   ]
  },
  {
   "attachments": {},
   "cell_type": "markdown",
   "metadata": {},
   "source": [
    "(2)(b)(ii) Print the estimates N = N_hat, beta = beta_hat, and the value of objective function J(beta, N)"
   ]
  },
  {
   "cell_type": "code",
   "execution_count": 417,
   "metadata": {},
   "outputs": [
    {
     "name": "stdout",
     "output_type": "stream",
     "text": [
      "The estimates N = N_hat = 3897\n",
      "beta = beta_hat = 0.08225041206859607\n",
      "the value of objective function J(beta, N) = 183.78238465282857\n"
     ]
    }
   ],
   "source": [
    "# N_hat is the last N\n",
    "N_hat = track_N[-1]\n",
    "\n",
    "temp3 = 0\n",
    "for t in range(1, tmax+1):\n",
    "    temp3 += t * math.log((I[t] / I[0]) * ((N_hat - I[0]) / (N_hat - I[t])))\n",
    "beta_hat_b = a * temp3\n",
    "\n",
    "print(f\"The estimates N = N_hat = {N_hat}\")\n",
    "print(f\"beta = beta_hat = {beta_hat_b}\") \n",
    "# J = J(N) is the last J value \n",
    "print(f\"the value of objective function J(beta, N) = {J_b}\")"
   ]
  },
  {
   "attachments": {},
   "cell_type": "markdown",
   "metadata": {},
   "source": [
    "(2)(b)(iii) Plot I(t) and the predicted value of the infection count based on the SI model"
   ]
  },
  {
   "cell_type": "code",
   "execution_count": 418,
   "metadata": {},
   "outputs": [
    {
     "name": "stdout",
     "output_type": "stream",
     "text": [
      "--------------------\n"
     ]
    },
    {
     "data": {
      "image/png": "[encoded data removed]",
      "text/plain": [
       "<Figure size 432x288 with 1 Axes>"
      ]
     },
     "metadata": {
      "needs_background": "light"
     },
     "output_type": "display_data"
    }
   ],
   "source": [
    "I_func_2 = [N_hat * I[0] / (I[0] + (N_hat - I[0]) * math.exp(-beta_hat_b * t)) for t in tlist]\n",
    "plt.figure()\n",
    "plt.plot(I_func_2, label=\"Prediction\")\n",
    "plt.plot(I, label=\"Actual\")\n",
    "plt.xlabel(\"t\")\n",
    "plt.ylabel(\"Number of Infection\")\n",
    "plt.title(f\"SI_uknown_N (N={N})\")\n",
    "plt.legend()\n",
    "# plt.savefig(f\"SI_known_N (N={N}).png\")\n",
    "print(\"-\" * 20)"
   ]
  },
  {
   "attachments": {},
   "cell_type": "markdown",
   "metadata": {},
   "source": [
    "(2)(b)(iv) Run all values of N from N_min to N_max, and to plot J = J(N) for comparison with (2)(b)(iv)"
   ]
  },
  {
   "cell_type": "code",
   "execution_count": 423,
   "metadata": {},
   "outputs": [
    {
     "name": "stdout",
     "output_type": "stream",
     "text": [
      "3863\n",
      "3864\n",
      "3865\n",
      "3866\n",
      "3867\n",
      "3868\n",
      "3869\n",
      "3870\n",
      "3871\n",
      "3872\n",
      "3873\n",
      "3874\n",
      "3875\n",
      "3876\n",
      "3877\n",
      "3878\n",
      "3879\n",
      "3880\n",
      "3881\n",
      "3882\n",
      "3883\n",
      "3884\n",
      "3885\n",
      "3886\n",
      "3887\n",
      "3888\n",
      "3889\n",
      "3890\n",
      "3891\n",
      "3892\n",
      "3893\n",
      "3894\n",
      "3895\n",
      "3896\n",
      "3897\n"
     ]
    }
   ],
   "source": [
    "# N_min_b = track_N[0]\n",
    "# N_max_b = track_N[-1]\n",
    "\n",
    "for N_b_2 in track_N:\n",
    "    print(N_b_2)"
   ]
  }
 ],
 "metadata": {
  "kernelspec": {
   "display_name": "Python 3",
   "language": "python",
   "name": "python3"
  },
  "language_info": {
   "codemirror_mode": {
    "name": "ipython",
    "version": 3
   },
   "file_extension": ".py",
   "mimetype": "text/x-python",
   "name": "python",
   "nbconvert_exporter": "python",
   "pygments_lexer": "ipython3",
   "version": "3.9.16"
  },
  "orig_nbformat": 4,
  "vscode": {
   "interpreter": {
    "hash": "397704579725e15f5c7cb49fe5f0341eb7531c82d19f2c29d197e8b64ab5776b"
   }
  }
 },
 "nbformat": 4,
 "nbformat_minor": 2
}
